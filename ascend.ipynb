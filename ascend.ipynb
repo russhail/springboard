{
 "cells": [
  {
   "cell_type": "code",
   "execution_count": 6,
   "id": "780a4678",
   "metadata": {},
   "outputs": [],
   "source": [
    "import pandas as pd\n",
    "import numpy as np\n",
    "GOOGLE_APPLICATION_CREDENTIALS  = \"ascendkey.json\"\n",
    "from google.cloud import bigquery\n",
    "import seaborn as sns\n",
    "import matplotlib.pyplot as plt\n",
    "from matplotlib.pyplot import figure\n",
    "import os"
   ]
  },
  {
   "cell_type": "code",
   "execution_count": 7,
   "id": "a31f747f",
   "metadata": {},
   "outputs": [],
   "source": [
    "os.environ['GOOGLE_APPLICATION_CREDENTIALS'] ='ascendkey.json'\n"
   ]
  },
  {
   "cell_type": "code",
   "execution_count": 9,
   "id": "e03b4748",
   "metadata": {},
   "outputs": [],
   "source": [
    "query = \"\"\"\n",
    "WITH MEMBERSHIP_INVOICES AS\n",
    "(\n",
    "SELECT\n",
    "  ii.invoice_id as INVOICE_ID\n",
    "FROM\n",
    "  `arboreal-groove-323317.data_analytics.invoice-items-SS` ii\n",
    "WHERE\n",
    "  product_id =1021)\n",
    ",\n",
    "INVOICES AS \n",
    "(\n",
    " SELECT INVOICES.INVOICE_ID, CUSTOMER_ID, CHARGETO_CUSTOMER_ID, POSTDATE, AMOUNT, INVTYPE,\n",
    " ROW_NUMBER() OVER (PARTITION BY  CUSTOMER_ID ORDER BY POSTDATE) as INV_ORDER\n",
    "    FROM `arboreal-groove-323317.data_analytics.invoices-SS` INVOICES\n",
    " INNER JOIN MEMBERSHIP_INVOICES  on INVOICES.INVOICE_ID = MEMBERSHIP_INVOICES.INVOICE_ID \n",
    " where postdate < '2020-03-01'\n",
    ")\n",
    ",\n",
    "END_INV AS\n",
    "(select \n",
    "invoices.invoice_id, invoices.customer_id, invoices.CHARGETO_CUSTOMER_ID, invoices.postdate as start_date, \n",
    "invoices_end.postdate as end_date\n",
    " from invoices\n",
    " inner join invoices invoices_end\n",
    " on invoices.customer_id = invoices_end.customer_id and\n",
    " (invoices.inv_order + 1) = invoices_end.inv_order\n",
    ")\n",
    "\n",
    "\n",
    "\n",
    "SELECT distinct checkins.CHECKIN_ID, checkins.CUSTOMER_ID as CUST_ID, cast(checkins.POSTDATE as datetime) as visittime,\n",
    "checkins.STATUS,  \n",
    "customers.CURRENT_STATUS, END_INV.*,\n",
    "ROW_NUMBER() OVER (PARTITION BY  checkins.CUSTOMER_ID, end_inv.invoice_id ORDER BY POSTDATE) as Checkin_count\n",
    "FROM `arboreal-groove-323317.data_analytics.checkins-SS_copy` checkins\n",
    "INNER JOIN `arboreal-groove-323317.data_analytics.customers_SS` customers\n",
    "on checkins.CUSTOMER_ID = cast(customers.customer_id as INT)\n",
    "inner join END_INV \n",
    "on checkins.CUSTOMER_ID = END_INV.CUSTOMER_ID\n",
    "and cast(checkins.POSTDATE as datetime) > cast(END_INV.start_date  as datetime)\n",
    "and cast(checkins.POSTDATE as datetime) < cast(END_INV.end_date  as datetime)\n",
    "where cast(checkins.POSTDATE as datetime) <  cast('2020-03-01' as datetime)\n",
    "\n",
    "\n",
    "order by 2,3\n",
    "\"\"\"\n",
    "\n",
    "bq_client = bigquery.Client()\n",
    "query_job = bq_client.query((query),) # BigQuery API request\n",
    "invoices = query_job.result().to_dataframe()"
   ]
  },
  {
   "cell_type": "code",
   "execution_count": 10,
   "id": "a3e84386",
   "metadata": {
    "scrolled": true
   },
   "outputs": [
    {
     "name": "stdout",
     "output_type": "stream",
     "text": [
      "<class 'pandas.core.frame.DataFrame'>\n",
      "RangeIndex: 234335 entries, 0 to 234334\n",
      "Data columns (total 11 columns):\n",
      " #   Column                Non-Null Count   Dtype              \n",
      "---  ------                --------------   -----              \n",
      " 0   CHECKIN_ID            234335 non-null  int64              \n",
      " 1   CUST_ID               234335 non-null  int64              \n",
      " 2   visittime             234335 non-null  datetime64[ns]     \n",
      " 3   STATUS                234335 non-null  object             \n",
      " 4   CURRENT_STATUS        234335 non-null  object             \n",
      " 5   invoice_id            234335 non-null  int64              \n",
      " 6   customer_id           234335 non-null  int64              \n",
      " 7   CHARGETO_CUSTOMER_ID  234335 non-null  int64              \n",
      " 8   start_date            234335 non-null  datetime64[ns, UTC]\n",
      " 9   end_date              234335 non-null  datetime64[ns, UTC]\n",
      " 10  Checkin_count         234335 non-null  int64              \n",
      "dtypes: datetime64[ns, UTC](2), datetime64[ns](1), int64(6), object(2)\n",
      "memory usage: 19.7+ MB\n"
     ]
    }
   ],
   "source": [
    "invoices.info()"
   ]
  },
  {
   "cell_type": "code",
   "execution_count": 11,
   "id": "41ea6716",
   "metadata": {},
   "outputs": [],
   "source": [
    "missing = pd.concat([invoices.isnull().sum(), 100 * invoices.isnull().mean()], axis=1)\n",
    "missing.columns=['count', '%']\n",
    "\n"
   ]
  },
  {
   "cell_type": "code",
   "execution_count": 12,
   "id": "7c5bb24d",
   "metadata": {
    "scrolled": true
   },
   "outputs": [
    {
     "data": {
      "text/html": [
       "<div>\n",
       "<style scoped>\n",
       "    .dataframe tbody tr th:only-of-type {\n",
       "        vertical-align: middle;\n",
       "    }\n",
       "\n",
       "    .dataframe tbody tr th {\n",
       "        vertical-align: top;\n",
       "    }\n",
       "\n",
       "    .dataframe thead th {\n",
       "        text-align: right;\n",
       "    }\n",
       "</style>\n",
       "<table border=\"1\" class=\"dataframe\">\n",
       "  <thead>\n",
       "    <tr style=\"text-align: right;\">\n",
       "      <th></th>\n",
       "      <th>count</th>\n",
       "      <th>%</th>\n",
       "    </tr>\n",
       "  </thead>\n",
       "  <tbody>\n",
       "    <tr>\n",
       "      <th>CHECKIN_ID</th>\n",
       "      <td>0</td>\n",
       "      <td>0.0</td>\n",
       "    </tr>\n",
       "    <tr>\n",
       "      <th>CUST_ID</th>\n",
       "      <td>0</td>\n",
       "      <td>0.0</td>\n",
       "    </tr>\n",
       "    <tr>\n",
       "      <th>visittime</th>\n",
       "      <td>0</td>\n",
       "      <td>0.0</td>\n",
       "    </tr>\n",
       "    <tr>\n",
       "      <th>STATUS</th>\n",
       "      <td>0</td>\n",
       "      <td>0.0</td>\n",
       "    </tr>\n",
       "    <tr>\n",
       "      <th>CURRENT_STATUS</th>\n",
       "      <td>0</td>\n",
       "      <td>0.0</td>\n",
       "    </tr>\n",
       "    <tr>\n",
       "      <th>invoice_id</th>\n",
       "      <td>0</td>\n",
       "      <td>0.0</td>\n",
       "    </tr>\n",
       "    <tr>\n",
       "      <th>customer_id</th>\n",
       "      <td>0</td>\n",
       "      <td>0.0</td>\n",
       "    </tr>\n",
       "    <tr>\n",
       "      <th>CHARGETO_CUSTOMER_ID</th>\n",
       "      <td>0</td>\n",
       "      <td>0.0</td>\n",
       "    </tr>\n",
       "    <tr>\n",
       "      <th>start_date</th>\n",
       "      <td>0</td>\n",
       "      <td>0.0</td>\n",
       "    </tr>\n",
       "    <tr>\n",
       "      <th>end_date</th>\n",
       "      <td>0</td>\n",
       "      <td>0.0</td>\n",
       "    </tr>\n",
       "    <tr>\n",
       "      <th>Checkin_count</th>\n",
       "      <td>0</td>\n",
       "      <td>0.0</td>\n",
       "    </tr>\n",
       "  </tbody>\n",
       "</table>\n",
       "</div>"
      ],
      "text/plain": [
       "                      count    %\n",
       "CHECKIN_ID                0  0.0\n",
       "CUST_ID                   0  0.0\n",
       "visittime                 0  0.0\n",
       "STATUS                    0  0.0\n",
       "CURRENT_STATUS            0  0.0\n",
       "invoice_id                0  0.0\n",
       "customer_id               0  0.0\n",
       "CHARGETO_CUSTOMER_ID      0  0.0\n",
       "start_date                0  0.0\n",
       "end_date                  0  0.0\n",
       "Checkin_count             0  0.0"
      ]
     },
     "execution_count": 12,
     "metadata": {},
     "output_type": "execute_result"
    }
   ],
   "source": [
    "missing"
   ]
  },
  {
   "cell_type": "code",
   "execution_count": 14,
   "id": "fc82c850",
   "metadata": {},
   "outputs": [],
   "source": [
    "invoices['checkin_one'] = 1"
   ]
  },
  {
   "cell_type": "code",
   "execution_count": 15,
   "id": "731d48e5",
   "metadata": {},
   "outputs": [
    {
     "data": {
      "text/plain": [
       "4211"
      ]
     },
     "execution_count": 15,
     "metadata": {},
     "output_type": "execute_result"
    }
   ],
   "source": [
    "invoices['CUST_ID'].nunique()"
   ]
  },
  {
   "cell_type": "code",
   "execution_count": 1,
   "id": "6ede8523",
   "metadata": {},
   "outputs": [
    {
     "ename": "NameError",
     "evalue": "name 'invoices' is not defined",
     "output_type": "error",
     "traceback": [
      "\u001b[1;31m---------------------------------------------------------------------------\u001b[0m",
      "\u001b[1;31mNameError\u001b[0m                                 Traceback (most recent call last)",
      "\u001b[1;32m<ipython-input-1-b2f06854443e>\u001b[0m in \u001b[0;36m<module>\u001b[1;34m\u001b[0m\n\u001b[1;32m----> 1\u001b[1;33m \u001b[0minvoices\u001b[0m\u001b[1;33m[\u001b[0m\u001b[1;34m'CUST_ID'\u001b[0m\u001b[1;33m,\u001b[0m \u001b[1;34m'invoice_id'\u001b[0m\u001b[1;33m]\u001b[0m\u001b[1;33m.\u001b[0m\u001b[0mnunique\u001b[0m\u001b[1;33m(\u001b[0m\u001b[1;33m)\u001b[0m\u001b[1;33m\u001b[0m\u001b[1;33m\u001b[0m\u001b[0m\n\u001b[0m",
      "\u001b[1;31mNameError\u001b[0m: name 'invoices' is not defined"
     ]
    }
   ],
   "source": [
    "invoices['CUST_ID', 'invoice_id'].nunique()"
   ]
  },
  {
   "cell_type": "code",
   "execution_count": 16,
   "id": "1afa51f5",
   "metadata": {},
   "outputs": [],
   "source": [
    "visits_per_customer = invoices.groupby(\n",
    "    ['CUST_ID'], as_index=False).agg(\n",
    "    {'checkin_one':sum}\n",
    ")"
   ]
  },
  {
   "cell_type": "code",
   "execution_count": null,
   "id": "330dc03b",
   "metadata": {},
   "outputs": [],
   "source": [
    "invoices_per_customer_per_inv = "
   ]
  },
  {
   "cell_type": "code",
   "execution_count": 17,
   "id": "10a41930",
   "metadata": {},
   "outputs": [],
   "source": [
    "visits_per_customer.drop(\"CUST_ID\", axis=1, inplace=True)"
   ]
  },
  {
   "cell_type": "code",
   "execution_count": 22,
   "id": "760df590",
   "metadata": {
    "scrolled": true
   },
   "outputs": [
    {
     "data": {
      "image/png": "[encoded data removed]",
      "text/plain": [
       "<Figure size 432x288 with 1 Axes>"
      ]
     },
     "metadata": {
      "needs_background": "light"
     },
     "output_type": "display_data"
    }
   ],
   "source": [
    "plt.hist(visits_per_customer, bins = 500)\n",
    "\n",
    "plt.show()"
   ]
  },
  {
   "cell_type": "code",
   "execution_count": null,
   "id": "a218f054",
   "metadata": {},
   "outputs": [],
   "source": [
    "ends_by_month ="
   ]
  },
  {
   "cell_type": "code",
   "execution_count": null,
   "id": "d2072547",
   "metadata": {},
   "outputs": [],
   "source": [
    "missing values?\n",
    "nas\n",
    "get histograms going for number of checkins per checkin id, per start/end period\n",
    "how many invoices per customer?\n",
    "\n",
    "status column - use last checkin or something like this to determine status\n",
    "\n",
    "survival analysis\n",
    "LTV - lifetimes package\n",
    "machine learning -predicting churn"
   ]
  },
  {
   "cell_type": "code",
   "execution_count": null,
   "id": "80f2c69d",
   "metadata": {},
   "outputs": [],
   "source": [
    "CHECKIN_ID the unique id assigned to the checkin to the facility\n",
    "CUST_ID the unique id assigned to the customer\n",
    "visittime the timestamp of the checkin\n",
    "STATUS the status of the customer at the time of the checkin\n",
    "CURRENT_STATUS the status of the customer today\n",
    "invoice_id the bill that enabled the customer to have a checkin\n",
    "customer_id repeated customer ID\n",
    "CHARGETO_CUSTOMER_ID the customer id of the person responsible for the bill. i.e., a parent if a child is checking in\n",
    "start_date the start date of the invoice paying for the checkin\n",
    "end_date the end date of the invoice paying for the checkin\n",
    "Checkin_count the count of checkins within an invoice period per customer id"
   ]
  }
 ],
 "metadata": {
  "kernelspec": {
   "display_name": "Python 3",
   "language": "python",
   "name": "python3"
  },
  "language_info": {
   "codemirror_mode": {
    "name": "ipython",
    "version": 3
   },
   "file_extension": ".py",
   "mimetype": "text/x-python",
   "name": "python",
   "nbconvert_exporter": "python",
   "pygments_lexer": "ipython3",
   "version": "3.8.8"
  }
 },
 "nbformat": 4,
 "nbformat_minor": 5
}
